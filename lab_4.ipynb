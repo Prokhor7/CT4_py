{
 "cells": [
  {
   "cell_type": "code",
   "execution_count": 1,
   "metadata": {
    "ExecuteTime": {
     "end_time": "2023-05-26T20:30:24.246336889Z",
     "start_time": "2023-05-26T20:30:24.196163043Z"
    }
   },
   "outputs": [],
   "source": [
    "# Import scripts for this practice work\n",
    "from src import utils, lab_4_ec2, lab_4_s3, lab_4_key_pairs"
   ]
  },
  {
   "cell_type": "code",
   "execution_count": 2,
   "metadata": {
    "ExecuteTime": {
     "end_time": "2023-05-26T20:30:24.776071474Z",
     "start_time": "2023-05-26T20:30:24.257362502Z"
    }
   },
   "outputs": [],
   "source": [
    "# Create keypair\n",
    "lab_4_key_pairs.create_pairs()"
   ]
  },
  {
   "cell_type": "markdown",
   "metadata": {},
   "source": [
    "## Apply script for EC2 Manipulation"
   ]
  },
  {
   "cell_type": "code",
   "execution_count": 3,
   "metadata": {
    "ExecuteTime": {
     "end_time": "2023-05-26T20:30:24.793047067Z",
     "start_time": "2023-05-26T20:30:24.780501348Z"
    }
   },
   "outputs": [],
   "source": [
    "# Define EC2 Client\n",
    "ec2_client = utils.connect_to_boto_client(\"ec2\")"
   ]
  },
  {
   "cell_type": "code",
   "execution_count": 4,
   "metadata": {
    "ExecuteTime": {
     "end_time": "2023-05-26T20:30:26.293775125Z",
     "start_time": "2023-05-26T20:30:24.794889382Z"
    }
   },
   "outputs": [
    {
     "name": "stdout",
     "output_type": "stream",
     "text": [
      "Instance create successfully!!\n",
      "with id: i-05fc831374f18700c\n"
     ]
    }
   ],
   "source": [
    "# Create instance\n",
    "instance_id = lab_4_ec2.create_instance(ec2_client)"
   ]
  },
  {
   "cell_type": "code",
   "execution_count": 5,
   "metadata": {
    "ExecuteTime": {
     "end_time": "2023-05-26T20:30:26.694711106Z",
     "start_time": "2023-05-26T20:30:26.296800065Z"
    }
   },
   "outputs": [
    {
     "name": "stdout",
     "output_type": "stream",
     "text": [
      "Action not execute because: An error occurred (IncorrectInstanceState) when calling the StopInstances operation: Instance 'i-05fc831374f18700c' cannot be stopped as it has never reached the 'running' state.\n"
     ]
    }
   ],
   "source": [
    "# Stop instance\n",
    "lab_4_ec2.instance_manipulation(ec2_client, instance_id, action=\"stop\")"
   ]
  },
  {
   "cell_type": "code",
   "execution_count": 6,
   "metadata": {
    "ExecuteTime": {
     "end_time": "2023-05-26T20:30:27.406807618Z",
     "start_time": "2023-05-26T20:30:26.697312226Z"
    }
   },
   "outputs": [
    {
     "name": "stdout",
     "output_type": "stream",
     "text": [
      "Instance starts successfully!\n"
     ]
    }
   ],
   "source": [
    "# Start instance\n",
    "lab_4_ec2.instance_manipulation(ec2_client, instance_id, action=\"start\")"
   ]
  },
  {
   "cell_type": "code",
   "execution_count": 7,
   "metadata": {
    "ExecuteTime": {
     "end_time": "2023-05-26T20:30:27.713468640Z",
     "start_time": "2023-05-26T20:30:27.413132507Z"
    }
   },
   "outputs": [
    {
     "name": "stdout",
     "output_type": "stream",
     "text": [
      "Instance start rebooting successfully!\n"
     ]
    }
   ],
   "source": [
    "# Reboot instance\n",
    "lab_4_ec2.instance_manipulation(ec2_client, instance_id, action=\"reboot\")"
   ]
  },
  {
   "cell_type": "code",
   "execution_count": 8,
   "metadata": {
    "ExecuteTime": {
     "end_time": "2023-05-26T20:30:27.826346771Z",
     "start_time": "2023-05-26T20:30:27.721444035Z"
    }
   },
   "outputs": [
    {
     "name": "stdout",
     "output_type": "stream",
     "text": [
      "Instance Id\t\t|\ttype\t|\tpublic ip\t|\tstate\n",
      "============================================\n"
     ]
    }
   ],
   "source": [
    "# Get running instances\n",
    "lab_4_ec2.get_instance_info(ec2_client, instance_id)"
   ]
  },
  {
   "cell_type": "code",
   "execution_count": 9,
   "metadata": {
    "ExecuteTime": {
     "end_time": "2023-05-26T20:30:28.169913438Z",
     "start_time": "2023-05-26T20:30:27.828931399Z"
    }
   },
   "outputs": [
    {
     "name": "stdout",
     "output_type": "stream",
     "text": [
      "Instance info:\n",
      "\t\tid:\ti-05fc831374f18700c\n",
      "\t\ttype:\tt3.micro\n",
      "\t\tcpu arch:\t['x86_64']\n",
      "\t\tram size:\t1024 MiB\n",
      "\t\tdisk size:\t8 Gb\n",
      "\t\tpublic ip:\t13.48.149.39\n",
      "\t\tstate:\tpending\n"
     ]
    }
   ],
   "source": [
    "# Get base instance info\n",
    "lab_4_ec2.get_instance_info(ec2_client, instance_id, info_type=\"base_info\")"
   ]
  },
  {
   "cell_type": "code",
   "execution_count": 10,
   "metadata": {
    "ExecuteTime": {
     "end_time": "2023-05-26T20:30:28.285999775Z",
     "start_time": "2023-05-26T20:30:28.179396292Z"
    }
   },
   "outputs": [
    {
     "name": "stdout",
     "output_type": "stream",
     "text": [
      "Instance public ip: 13.48.149.39\n"
     ]
    }
   ],
   "source": [
    "# Get public ip of instance\n",
    "lab_4_ec2.get_instance_info(ec2_client, instance_id, info_type=\"pub_ip\")"
   ]
  },
  {
   "cell_type": "code",
   "execution_count": 11,
   "metadata": {
    "ExecuteTime": {
     "end_time": "2023-05-26T20:30:28.735528873Z",
     "start_time": "2023-05-26T20:30:28.291361852Z"
    }
   },
   "outputs": [
    {
     "name": "stdout",
     "output_type": "stream",
     "text": [
      "Termination instance with id: i-05fc831374f18700c done successfully!\n"
     ]
    }
   ],
   "source": [
    "# Terminate instance\n",
    "lab_4_ec2.terminate_instance(ec2_client, instance_id)"
   ]
  },
  {
   "cell_type": "markdown",
   "metadata": {},
   "source": [
    "## Apply script for S3 Manipulation"
   ]
  },
  {
   "cell_type": "code",
   "execution_count": 12,
   "metadata": {
    "ExecuteTime": {
     "end_time": "2023-05-26T20:30:28.790375670Z",
     "start_time": "2023-05-26T20:30:28.742626911Z"
    }
   },
   "outputs": [],
   "source": [
    "# Define S3 Client\n",
    "s3_client = utils.connect_to_boto_client(\"s3\")"
   ]
  },
  {
   "cell_type": "code",
   "execution_count": 13,
   "metadata": {
    "ExecuteTime": {
     "end_time": "2023-05-26T20:30:28.794600182Z",
     "start_time": "2023-05-26T20:30:28.792170205Z"
    }
   },
   "outputs": [],
   "source": [
    "# Define new bucket name\n",
    "bucket_name = \"prokhorenko1bucket\""
   ]
  },
  {
   "cell_type": "code",
   "execution_count": 14,
   "metadata": {
    "ExecuteTime": {
     "end_time": "2023-05-26T20:30:29.830267932Z",
     "start_time": "2023-05-26T20:30:28.794909374Z"
    }
   },
   "outputs": [
    {
     "name": "stdout",
     "output_type": "stream",
     "text": [
      "Bucket 'prokhorenko1bucket' was create successfully!\n"
     ]
    },
    {
     "data": {
      "text/plain": "True"
     },
     "execution_count": 14,
     "metadata": {},
     "output_type": "execute_result"
    }
   ],
   "source": [
    "# Create bucket\n",
    "lab_4_s3.create_bucket(s3_client, bucket_name)"
   ]
  },
  {
   "cell_type": "code",
   "execution_count": 15,
   "metadata": {
    "ExecuteTime": {
     "end_time": "2023-05-26T20:30:30.121976183Z",
     "start_time": "2023-05-26T20:30:29.830010735Z"
    }
   },
   "outputs": [
    {
     "name": "stdout",
     "output_type": "stream",
     "text": [
      "Existing buckets in your region:\n",
      "\tprokhorenko1bucket\n",
      "\tprokhorenkodata\n"
     ]
    }
   ],
   "source": [
    "# Get list of existing buckets\n",
    "lab_4_s3.get_bucket_info(s3_client, bucket_name)"
   ]
  },
  {
   "cell_type": "code",
   "execution_count": 16,
   "metadata": {
    "ExecuteTime": {
     "end_time": "2023-05-26T20:30:30.715587531Z",
     "start_time": "2023-05-26T20:30:30.126136785Z"
    }
   },
   "outputs": [
    {
     "name": "stdout",
     "output_type": "stream",
     "text": [
      "List of object in bucket:\n"
     ]
    },
    {
     "ename": "TypeError",
     "evalue": "'NoneType' object is not iterable",
     "output_type": "error",
     "traceback": [
      "\u001B[0;31m---------------------------------------------------------------------------\u001B[0m",
      "\u001B[0;31mTypeError\u001B[0m                                 Traceback (most recent call last)",
      "Cell \u001B[0;32mIn[16], line 2\u001B[0m\n\u001B[1;32m      1\u001B[0m \u001B[38;5;66;03m# Get object in existing bucket\u001B[39;00m\n\u001B[0;32m----> 2\u001B[0m \u001B[43mlab_4_s3\u001B[49m\u001B[38;5;241;43m.\u001B[39;49m\u001B[43mget_bucket_info\u001B[49m\u001B[43m(\u001B[49m\u001B[43ms3_client\u001B[49m\u001B[43m,\u001B[49m\u001B[43m \u001B[49m\u001B[38;5;124;43m\"\u001B[39;49m\u001B[38;5;124;43mprokhorenkodata\u001B[39;49m\u001B[38;5;124;43m\"\u001B[39;49m\u001B[43m,\u001B[49m\u001B[43m \u001B[49m\u001B[43minfo_type\u001B[49m\u001B[38;5;241;43m=\u001B[39;49m\u001B[38;5;124;43m\"\u001B[39;49m\u001B[38;5;124;43mfiles\u001B[39;49m\u001B[38;5;124;43m\"\u001B[39;49m\u001B[43m)\u001B[49m\n",
      "File \u001B[0;32m~/PycharmProjects/pythonProject/src/lab_4_s3.py:137\u001B[0m, in \u001B[0;36mget_bucket_info\u001B[0;34m(s3_client, bucket_name, info_type)\u001B[0m\n\u001B[1;32m    135\u001B[0m \u001B[38;5;28;01mmatch\u001B[39;00m info_type:\n\u001B[1;32m    136\u001B[0m     \u001B[38;5;28;01mcase\u001B[39;00m \u001B[38;5;124m\"\u001B[39m\u001B[38;5;124mlist\u001B[39m\u001B[38;5;124m\"\u001B[39m: get_existing_buckets(s3_client)\n\u001B[0;32m--> 137\u001B[0m     \u001B[38;5;28;01mcase\u001B[39;00m \u001B[38;5;124m\"\u001B[39m\u001B[38;5;124mfiles\u001B[39m\u001B[38;5;124m\"\u001B[39m: \u001B[43mget_files_in_bucket\u001B[49m\u001B[43m(\u001B[49m\u001B[43ms3_client\u001B[49m\u001B[43m,\u001B[49m\u001B[43m \u001B[49m\u001B[43mbucket_name\u001B[49m\u001B[43m)\u001B[49m\n\u001B[1;32m    138\u001B[0m     \u001B[38;5;28;01mcase\u001B[39;00m\u001B[38;5;250m \u001B[39m\u001B[38;5;28;01m_\u001B[39;00m: \u001B[38;5;28mprint\u001B[39m(\u001B[38;5;124m\"\u001B[39m\u001B[38;5;124mPlease choose available info type [list|files].\u001B[39m\u001B[38;5;124m\"\u001B[39m)\n",
      "File \u001B[0;32m~/PycharmProjects/pythonProject/src/lab_4_s3.py:122\u001B[0m, in \u001B[0;36mget_files_in_bucket\u001B[0;34m(s3_client, bucket_name)\u001B[0m\n\u001B[1;32m    119\u001B[0m     \u001B[38;5;28mprint\u001B[39m(\u001B[38;5;124mf\u001B[39m\u001B[38;5;124m\"\u001B[39m\u001B[38;5;124mGet Files object error: \u001B[39m\u001B[38;5;132;01m{\u001B[39;00me\u001B[38;5;132;01m}\u001B[39;00m\u001B[38;5;124m\"\u001B[39m)\n\u001B[1;32m    121\u001B[0m \u001B[38;5;28mprint\u001B[39m(\u001B[38;5;124m\"\u001B[39m\u001B[38;5;124mList of object in bucket:\u001B[39m\u001B[38;5;124m\"\u001B[39m)\n\u001B[0;32m--> 122\u001B[0m \u001B[38;5;28;01mfor\u001B[39;00m bucket_obj \u001B[38;5;129;01min\u001B[39;00m contents:\n\u001B[1;32m    123\u001B[0m     \u001B[38;5;28mprint\u001B[39m(\u001B[38;5;124mf\u001B[39m\u001B[38;5;124m\"\u001B[39m\u001B[38;5;124mFile: \u001B[39m\u001B[38;5;132;01m{\u001B[39;00mbucket_obj[\u001B[38;5;124m'\u001B[39m\u001B[38;5;124mKey\u001B[39m\u001B[38;5;124m'\u001B[39m]\u001B[38;5;132;01m}\u001B[39;00m\u001B[38;5;124m\"\u001B[39m)\n\u001B[1;32m    124\u001B[0m     \u001B[38;5;28mprint\u001B[39m(\u001B[38;5;124mf\u001B[39m\u001B[38;5;124m\"\u001B[39m\u001B[38;5;124mStorage Class: \u001B[39m\u001B[38;5;132;01m{\u001B[39;00mbucket_obj[\u001B[38;5;124m'\u001B[39m\u001B[38;5;124mStorageClass\u001B[39m\u001B[38;5;124m'\u001B[39m]\u001B[38;5;132;01m}\u001B[39;00m\u001B[38;5;124m\"\u001B[39m)\n",
      "\u001B[0;31mTypeError\u001B[0m: 'NoneType' object is not iterable"
     ]
    }
   ],
   "source": [
    "# Get object in existing bucket\n",
    "lab_4_s3.get_bucket_info(s3_client, \"prokhorenkodata\", info_type=\"files\")"
   ]
  },
  {
   "cell_type": "code",
   "execution_count": 17,
   "metadata": {
    "ExecuteTime": {
     "end_time": "2023-05-26T20:32:46.817184993Z",
     "start_time": "2023-05-26T20:32:45.956246710Z"
    }
   },
   "outputs": [],
   "source": [
    "# Upload file to bucket\n",
    "input_folder = \"./img/\"\n",
    "files_to_upload = [\"green-tree-python.jpg\", \"aws.png\", \"python-boto3.png\"]\n",
    "for file_name in files_to_upload:\n",
    "    upload_file = input_folder + file_name\n",
    "    bucket_file_name = f\"{file_name[:2]}_S3_{file_name[2:]}\"\n",
    "    lab_4_s3.bucket_manipulation(s3_client, bucket_name, \"upload\", upload_file, bucket_file_name)"
   ]
  },
  {
   "cell_type": "code",
   "execution_count": 18,
   "metadata": {
    "ExecuteTime": {
     "end_time": "2023-05-26T20:32:47.883355312Z",
     "start_time": "2023-05-26T20:32:47.732816446Z"
    }
   },
   "outputs": [],
   "source": [
    "# Download file from bucket\n",
    "download_file = f\"{files_to_upload[1][:2]}_S3_{files_to_upload[1][2:]}\"\n",
    "file_path = \"./output/s3_\" + files_to_upload[1]\n",
    "lab_4_s3.bucket_manipulation(s3_client, bucket_name, \"download\", file_path, download_file)"
   ]
  },
  {
   "cell_type": "code",
   "execution_count": 19,
   "metadata": {
    "ExecuteTime": {
     "end_time": "2023-05-26T20:32:49.634358057Z",
     "start_time": "2023-05-26T20:32:49.506068873Z"
    }
   },
   "outputs": [
    {
     "name": "stdout",
     "output_type": "stream",
     "text": [
      "List of object in bucket:\n",
      "File: aw_S3_s.png\n",
      "Storage Class: STANDARD\n",
      "---------------------------\n",
      "File: gr_S3_een-tree-python.jpg\n",
      "Storage Class: STANDARD\n",
      "---------------------------\n",
      "File: py_S3_thon-boto3.png\n",
      "Storage Class: STANDARD\n",
      "---------------------------\n"
     ]
    }
   ],
   "source": [
    "# Check files on s3 bucket\n",
    "lab_4_s3.get_bucket_info(s3_client, bucket_name, info_type=\"files\")"
   ]
  },
  {
   "cell_type": "markdown",
   "metadata": {},
   "source": [
    "### Check exception to S3 Bucket Creation"
   ]
  },
  {
   "cell_type": "code",
   "execution_count": 20,
   "metadata": {
    "ExecuteTime": {
     "end_time": "2023-05-26T20:32:53.128419256Z",
     "start_time": "2023-05-26T20:32:52.674057292Z"
    }
   },
   "outputs": [
    {
     "name": "stdout",
     "output_type": "stream",
     "text": [
      "Creation bucket error: An error occurred (BucketAlreadyOwnedByYou) when calling the CreateBucket operation: Your previous request to create the named bucket succeeded and you already own it.\n"
     ]
    },
    {
     "data": {
      "text/plain": "False"
     },
     "execution_count": 20,
     "metadata": {},
     "output_type": "execute_result"
    }
   ],
   "source": [
    "# Create bucket with same name\n",
    "lab_4_s3.create_bucket(s3_client, bucket_name)"
   ]
  },
  {
   "cell_type": "markdown",
   "metadata": {},
   "source": [
    "### Check exception to S3 File Download"
   ]
  },
  {
   "cell_type": "code",
   "execution_count": 21,
   "metadata": {
    "ExecuteTime": {
     "end_time": "2023-05-26T20:32:55.041641525Z",
     "start_time": "2023-05-26T20:32:54.974458468Z"
    }
   },
   "outputs": [
    {
     "name": "stdout",
     "output_type": "stream",
     "text": [
      "Download file error: An error occurred (404) when calling the HeadObject operation: Not Found\n"
     ]
    }
   ],
   "source": [
    "# Download unexisting file from bucket\n",
    "lab_4_s3.bucket_manipulation(s3_client, bucket_name, \"download\", \"./output/s3_file.txt\", \"s3_bucket_file.txt\")"
   ]
  },
  {
   "cell_type": "markdown",
   "metadata": {},
   "source": [
    "### Check exception to S3 File Upload"
   ]
  },
  {
   "cell_type": "code",
   "execution_count": 22,
   "metadata": {
    "ExecuteTime": {
     "end_time": "2023-05-26T20:32:56.936980007Z",
     "start_time": "2023-05-26T20:32:56.922786735Z"
    }
   },
   "outputs": [
    {
     "name": "stdout",
     "output_type": "stream",
     "text": [
      "File not found error: [Errno 2] No such file or directory: './img/cython.py'\n"
     ]
    }
   ],
   "source": [
    "# Upload unexisting file to bucket\n",
    "lab_4_s3.bucket_manipulation(s3_client, bucket_name, \"upload\", \"./img/cython.py\", \"s3_cython.py\")"
   ]
  },
  {
   "cell_type": "markdown",
   "metadata": {},
   "source": [
    "## Deletion bucket"
   ]
  },
  {
   "cell_type": "code",
   "execution_count": 23,
   "metadata": {
    "ExecuteTime": {
     "end_time": "2023-05-26T20:33:00.839866486Z",
     "start_time": "2023-05-26T20:33:00.080046002Z"
    }
   },
   "outputs": [
    {
     "name": "stdout",
     "output_type": "stream",
     "text": [
      "Bucket 'prokhorenko1bucket' was delete successfully!\n"
     ]
    },
    {
     "data": {
      "text/plain": "True"
     },
     "execution_count": 23,
     "metadata": {},
     "output_type": "execute_result"
    }
   ],
   "source": [
    "lab_4_s3.delete_bucket(s3_client, bucket_name)"
   ]
  },
  {
   "cell_type": "code",
   "execution_count": 24,
   "metadata": {
    "ExecuteTime": {
     "end_time": "2023-05-26T20:33:03.253137119Z",
     "start_time": "2023-05-26T20:33:02.833128674Z"
    }
   },
   "outputs": [],
   "source": [
    "# Delete keypair\n",
    "lab_4_key_pairs.delete_pairs()"
   ]
  },
  {
   "cell_type": "code",
   "execution_count": null,
   "outputs": [],
   "source": [],
   "metadata": {
    "collapsed": false
   }
  }
 ],
 "metadata": {
  "kernelspec": {
   "display_name": "Python 3 (ipykernel)",
   "language": "python",
   "name": "python3"
  },
  "language_info": {
   "codemirror_mode": {
    "name": "ipython",
    "version": 3
   },
   "file_extension": ".py",
   "mimetype": "text/x-python",
   "name": "python",
   "nbconvert_exporter": "python",
   "pygments_lexer": "ipython3",
   "version": "3.8.10"
  }
 },
 "nbformat": 4,
 "nbformat_minor": 1
}
