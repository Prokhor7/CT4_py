{
 "cells": [
  {
   "cell_type": "code",
   "execution_count": 1,
   "metadata": {
    "ExecuteTime": {
     "end_time": "2023-05-26T08:24:28.703795651Z",
     "start_time": "2023-05-26T08:24:28.642683198Z"
    }
   },
   "outputs": [],
   "source": [
    "# Import scripts for this practice work\n",
    "from src import utils, lab_4_ec2, lab_4_s3, lab_4_key_pairs"
   ]
  },
  {
   "cell_type": "code",
   "execution_count": 5,
   "metadata": {
    "ExecuteTime": {
     "end_time": "2023-05-26T08:25:10.206130970Z",
     "start_time": "2023-05-26T08:25:09.867408696Z"
    }
   },
   "outputs": [],
   "source": [
    "# Create keypair\n",
    "lab_4_key_pairs.create_pairs()"
   ]
  },
  {
   "cell_type": "markdown",
   "metadata": {},
   "source": [
    "## Apply script for EC2 Manipulation"
   ]
  },
  {
   "cell_type": "code",
   "execution_count": 6,
   "metadata": {
    "ExecuteTime": {
     "end_time": "2023-05-26T08:25:13.681705741Z",
     "start_time": "2023-05-26T08:25:13.670495007Z"
    }
   },
   "outputs": [],
   "source": [
    "# Define EC2 Client\n",
    "ec2_client = utils.connect_to_boto_client(\"ec2\")"
   ]
  },
  {
   "cell_type": "code",
   "execution_count": 7,
   "metadata": {
    "ExecuteTime": {
     "end_time": "2023-05-26T08:25:16.183108451Z",
     "start_time": "2023-05-26T08:25:14.857772541Z"
    }
   },
   "outputs": [
    {
     "name": "stdout",
     "output_type": "stream",
     "text": [
      "Instance create successfully!!\n",
      "with id: i-0a2d82cb323faf811\n"
     ]
    }
   ],
   "source": [
    "# Create instance\n",
    "instance_id = lab_4_ec2.create_instance(ec2_client)"
   ]
  },
  {
   "cell_type": "code",
   "execution_count": 8,
   "metadata": {
    "ExecuteTime": {
     "end_time": "2023-05-26T08:27:10.048108675Z",
     "start_time": "2023-05-26T08:27:08.710030372Z"
    }
   },
   "outputs": [
    {
     "name": "stdout",
     "output_type": "stream",
     "text": [
      "Instance stops successfully!\n"
     ]
    }
   ],
   "source": [
    "# Stop instance\n",
    "lab_4_ec2.instance_manipulation(ec2_client, instance_id, action=\"stop\")"
   ]
  },
  {
   "cell_type": "code",
   "execution_count": 9,
   "metadata": {
    "ExecuteTime": {
     "end_time": "2023-05-26T08:28:36.565623895Z",
     "start_time": "2023-05-26T08:28:35.712184006Z"
    }
   },
   "outputs": [
    {
     "name": "stdout",
     "output_type": "stream",
     "text": [
      "Instance starts successfully!\n"
     ]
    }
   ],
   "source": [
    "# Start instance\n",
    "lab_4_ec2.instance_manipulation(ec2_client, instance_id, action=\"start\")"
   ]
  },
  {
   "cell_type": "code",
   "execution_count": 10,
   "metadata": {
    "ExecuteTime": {
     "end_time": "2023-05-26T08:29:13.840828637Z",
     "start_time": "2023-05-26T08:29:13.483240048Z"
    }
   },
   "outputs": [
    {
     "name": "stdout",
     "output_type": "stream",
     "text": [
      "Instance start rebooting successfully!\n"
     ]
    }
   ],
   "source": [
    "# Reboot instance\n",
    "lab_4_ec2.instance_manipulation(ec2_client, instance_id, action=\"reboot\")"
   ]
  },
  {
   "cell_type": "code",
   "execution_count": 11,
   "metadata": {
    "ExecuteTime": {
     "end_time": "2023-05-26T08:30:01.930124460Z",
     "start_time": "2023-05-26T08:30:01.598541453Z"
    }
   },
   "outputs": [
    {
     "name": "stdout",
     "output_type": "stream",
     "text": [
      "Instance Id\t\t|\ttype\t|\tpublic ip\t|\tstate\n",
      "============================================\n",
      "i-0a2d82cb323faf811\t|\tt3.micro\t|\t16.170.236.185\t|\trunning\n"
     ]
    }
   ],
   "source": [
    "# Get running instances\n",
    "lab_4_ec2.get_instance_info(ec2_client, instance_id)"
   ]
  },
  {
   "cell_type": "code",
   "execution_count": 12,
   "metadata": {
    "ExecuteTime": {
     "end_time": "2023-05-26T08:30:27.389334269Z",
     "start_time": "2023-05-26T08:30:27.061006409Z"
    }
   },
   "outputs": [
    {
     "name": "stdout",
     "output_type": "stream",
     "text": [
      "Instance info:\n",
      "\t\tid:\ti-0a2d82cb323faf811\n",
      "\t\ttype:\tt3.micro\n",
      "\t\tcpu arch:\t['x86_64']\n",
      "\t\tram size:\t1024 MiB\n",
      "\t\tdisk size:\t8 Gb\n",
      "\t\tpublic ip:\t16.170.236.185\n",
      "\t\tstate:\trunning\n"
     ]
    }
   ],
   "source": [
    "# Get base instance info\n",
    "lab_4_ec2.get_instance_info(ec2_client, instance_id, info_type=\"base_info\")"
   ]
  },
  {
   "cell_type": "code",
   "execution_count": 13,
   "metadata": {
    "ExecuteTime": {
     "end_time": "2023-05-26T08:30:54.721483960Z",
     "start_time": "2023-05-26T08:30:54.590866822Z"
    }
   },
   "outputs": [
    {
     "name": "stdout",
     "output_type": "stream",
     "text": [
      "Instance public ip: 16.170.236.185\n"
     ]
    }
   ],
   "source": [
    "# Get public ip of instance\n",
    "lab_4_ec2.get_instance_info(ec2_client, instance_id, info_type=\"pub_ip\")"
   ]
  },
  {
   "cell_type": "code",
   "execution_count": 14,
   "metadata": {
    "ExecuteTime": {
     "end_time": "2023-05-26T08:31:44.475644351Z",
     "start_time": "2023-05-26T08:31:43.551735057Z"
    }
   },
   "outputs": [
    {
     "name": "stdout",
     "output_type": "stream",
     "text": [
      "Termination instance with id: i-0a2d82cb323faf811 done successfully!\n"
     ]
    }
   ],
   "source": [
    "# Terminate instance\n",
    "lab_4_ec2.terminate_instance(ec2_client, instance_id)"
   ]
  },
  {
   "cell_type": "markdown",
   "metadata": {},
   "source": [
    "## Apply script for S3 Manipulation"
   ]
  },
  {
   "cell_type": "code",
   "execution_count": 15,
   "metadata": {
    "ExecuteTime": {
     "end_time": "2023-05-26T08:34:19.092397983Z",
     "start_time": "2023-05-26T08:34:19.016256740Z"
    }
   },
   "outputs": [],
   "source": [
    "# Define S3 Client\n",
    "s3_client = utils.connect_to_boto_client(\"s3\")"
   ]
  },
  {
   "cell_type": "code",
   "execution_count": 16,
   "metadata": {
    "ExecuteTime": {
     "end_time": "2023-05-26T08:34:20.767115303Z",
     "start_time": "2023-05-26T08:34:20.759979343Z"
    }
   },
   "outputs": [],
   "source": [
    "# Define new bucket name\n",
    "bucket_name = \"prokhorenko1bucket\""
   ]
  },
  {
   "cell_type": "code",
   "execution_count": 17,
   "metadata": {
    "ExecuteTime": {
     "end_time": "2023-05-26T08:34:23.825434449Z",
     "start_time": "2023-05-26T08:34:22.680570038Z"
    }
   },
   "outputs": [
    {
     "name": "stdout",
     "output_type": "stream",
     "text": [
      "Bucket 'prokhorenko1bucket' was create successfully!\n"
     ]
    },
    {
     "data": {
      "text/plain": "True"
     },
     "execution_count": 17,
     "metadata": {},
     "output_type": "execute_result"
    }
   ],
   "source": [
    "# Create bucket\n",
    "lab_4_s3.create_bucket(s3_client, bucket_name)"
   ]
  },
  {
   "cell_type": "code",
   "execution_count": 18,
   "metadata": {
    "ExecuteTime": {
     "end_time": "2023-05-26T08:35:20.338154419Z",
     "start_time": "2023-05-26T08:35:20.024840453Z"
    }
   },
   "outputs": [
    {
     "name": "stdout",
     "output_type": "stream",
     "text": [
      "Existing buckets in your region:\n",
      "\tprokhorenko1bucket\n",
      "\tprokhorenkodata\n"
     ]
    }
   ],
   "source": [
    "# Get list of existing buckets\n",
    "lab_4_s3.get_bucket_info(s3_client, bucket_name)"
   ]
  },
  {
   "cell_type": "code",
   "execution_count": 19,
   "metadata": {
    "ExecuteTime": {
     "end_time": "2023-05-26T08:35:22.174239401Z",
     "start_time": "2023-05-26T08:35:21.813497632Z"
    }
   },
   "outputs": [
    {
     "name": "stdout",
     "output_type": "stream",
     "text": [
      "List of object in bucket:\n",
      "File: exchange1.csv\n",
      "Storage Class: STANDARD\n",
      "---------------------------\n",
      "File: exchange10.csv\n",
      "Storage Class: STANDARD\n",
      "---------------------------\n",
      "File: exchange11.csv\n",
      "Storage Class: STANDARD\n",
      "---------------------------\n",
      "File: exchange12.csv\n",
      "Storage Class: STANDARD\n",
      "---------------------------\n",
      "File: exchange2.csv\n",
      "Storage Class: STANDARD\n",
      "---------------------------\n",
      "File: exchange3.csv\n",
      "Storage Class: STANDARD\n",
      "---------------------------\n",
      "File: exchange4.csv\n",
      "Storage Class: STANDARD\n",
      "---------------------------\n",
      "File: exchange5.csv\n",
      "Storage Class: STANDARD\n",
      "---------------------------\n",
      "File: exchange6.csv\n",
      "Storage Class: STANDARD\n",
      "---------------------------\n",
      "File: exchange7.csv\n",
      "Storage Class: STANDARD\n",
      "---------------------------\n"
     ]
    }
   ],
   "source": [
    "# Get object in existing bucket\n",
    "lab_4_s3.get_bucket_info(s3_client, \"prokhorenkodata\", info_type=\"files\")"
   ]
  },
  {
   "cell_type": "code",
   "execution_count": 20,
   "metadata": {
    "ExecuteTime": {
     "end_time": "2023-05-26T08:37:11.029626207Z",
     "start_time": "2023-05-26T08:37:10.099653188Z"
    }
   },
   "outputs": [],
   "source": [
    "# Upload file to bucket\n",
    "input_folder = \"./img/\"\n",
    "files_to_upload = [\"green-tree-python.jpg\", \"aws.png\", \"python-boto3.png\"]\n",
    "for file_name in files_to_upload:\n",
    "    upload_file = input_folder + file_name\n",
    "    bucket_file_name = f\"{file_name[:2]}_S3_{file_name[2:]}\"\n",
    "    lab_4_s3.bucket_manipulation(s3_client, bucket_name, \"upload\", upload_file, bucket_file_name)"
   ]
  },
  {
   "cell_type": "code",
   "execution_count": 22,
   "metadata": {
    "ExecuteTime": {
     "end_time": "2023-05-26T08:39:15.663002927Z",
     "start_time": "2023-05-26T08:39:15.345274549Z"
    }
   },
   "outputs": [],
   "source": [
    "# Download file from bucket\n",
    "download_file = f\"{files_to_upload[1][:2]}_S3_{files_to_upload[1][2:]}\"\n",
    "file_path = \"./output/s3_\" + files_to_upload[1]\n",
    "lab_4_s3.bucket_manipulation(s3_client, bucket_name, \"download\", file_path, download_file)"
   ]
  },
  {
   "cell_type": "code",
   "execution_count": 23,
   "metadata": {
    "ExecuteTime": {
     "end_time": "2023-05-26T08:40:27.435602852Z",
     "start_time": "2023-05-26T08:40:27.175494964Z"
    }
   },
   "outputs": [
    {
     "name": "stdout",
     "output_type": "stream",
     "text": [
      "List of object in bucket:\n",
      "File: aw_S3_s.png\n",
      "Storage Class: STANDARD\n",
      "---------------------------\n",
      "File: gr_S3_een-tree-python.jpg\n",
      "Storage Class: STANDARD\n",
      "---------------------------\n",
      "File: py_S3_thon-boto3.png\n",
      "Storage Class: STANDARD\n",
      "---------------------------\n"
     ]
    }
   ],
   "source": [
    "# Check files on s3 bucket\n",
    "lab_4_s3.get_bucket_info(s3_client, bucket_name, info_type=\"files\")"
   ]
  },
  {
   "cell_type": "markdown",
   "metadata": {},
   "source": [
    "### Check exception to S3 Bucket Creation"
   ]
  },
  {
   "cell_type": "code",
   "execution_count": 24,
   "metadata": {
    "ExecuteTime": {
     "end_time": "2023-05-26T08:41:38.910045438Z",
     "start_time": "2023-05-26T08:41:38.273732718Z"
    }
   },
   "outputs": [
    {
     "name": "stdout",
     "output_type": "stream",
     "text": [
      "Creation bucket error: An error occurred (BucketAlreadyOwnedByYou) when calling the CreateBucket operation: Your previous request to create the named bucket succeeded and you already own it.\n"
     ]
    },
    {
     "data": {
      "text/plain": "False"
     },
     "execution_count": 24,
     "metadata": {},
     "output_type": "execute_result"
    }
   ],
   "source": [
    "# Create bucket with same name\n",
    "lab_4_s3.create_bucket(s3_client, bucket_name)"
   ]
  },
  {
   "cell_type": "markdown",
   "metadata": {},
   "source": [
    "### Check exception to S3 File Download"
   ]
  },
  {
   "cell_type": "code",
   "execution_count": 25,
   "metadata": {
    "ExecuteTime": {
     "end_time": "2023-05-26T08:42:44.568924676Z",
     "start_time": "2023-05-26T08:42:44.314939096Z"
    }
   },
   "outputs": [
    {
     "name": "stdout",
     "output_type": "stream",
     "text": [
      "Download file error: An error occurred (404) when calling the HeadObject operation: Not Found\n"
     ]
    }
   ],
   "source": [
    "# Download unexisting file from bucket\n",
    "lab_4_s3.bucket_manipulation(s3_client, bucket_name, \"download\", \"./output/s3_file.txt\", \"s3_bucket_file.txt\")"
   ]
  },
  {
   "cell_type": "markdown",
   "metadata": {},
   "source": [
    "### Check exception to S3 File Upload"
   ]
  },
  {
   "cell_type": "code",
   "execution_count": 27,
   "metadata": {
    "ExecuteTime": {
     "end_time": "2023-05-26T08:44:13.084846517Z",
     "start_time": "2023-05-26T08:44:13.040026956Z"
    }
   },
   "outputs": [
    {
     "name": "stdout",
     "output_type": "stream",
     "text": [
      "File not found error: [Errno 2] No such file or directory: './img/cython.py'\n"
     ]
    }
   ],
   "source": [
    "# Upload unexisting file to bucket\n",
    "lab_4_s3.bucket_manipulation(s3_client, bucket_name, \"upload\", \"./img/cython.py\", \"s3_cython.py\")"
   ]
  },
  {
   "cell_type": "markdown",
   "metadata": {},
   "source": [
    "## Deletion bucket"
   ]
  },
  {
   "cell_type": "code",
   "execution_count": 28,
   "metadata": {
    "ExecuteTime": {
     "end_time": "2023-05-26T08:45:04.012779740Z",
     "start_time": "2023-05-26T08:45:02.807111541Z"
    }
   },
   "outputs": [
    {
     "name": "stdout",
     "output_type": "stream",
     "text": [
      "Bucket 'prokhorenko1bucket' was delete successfully!\n"
     ]
    },
    {
     "data": {
      "text/plain": "True"
     },
     "execution_count": 28,
     "metadata": {},
     "output_type": "execute_result"
    }
   ],
   "source": [
    "lab_4_s3.delete_bucket(s3_client, bucket_name)"
   ]
  },
  {
   "cell_type": "code",
   "execution_count": 29,
   "metadata": {
    "ExecuteTime": {
     "end_time": "2023-05-26T08:45:49.067983850Z",
     "start_time": "2023-05-26T08:45:48.566575133Z"
    }
   },
   "outputs": [],
   "source": [
    "# Delete keypair\n",
    "lab_4_key_pairs.delete_pairs()"
   ]
  },
  {
   "cell_type": "code",
   "execution_count": null,
   "outputs": [],
   "source": [],
   "metadata": {
    "collapsed": false
   }
  }
 ],
 "metadata": {
  "kernelspec": {
   "display_name": "Python 3 (ipykernel)",
   "language": "python",
   "name": "python3"
  },
  "language_info": {
   "codemirror_mode": {
    "name": "ipython",
    "version": 3
   },
   "file_extension": ".py",
   "mimetype": "text/x-python",
   "name": "python",
   "nbconvert_exporter": "python",
   "pygments_lexer": "ipython3",
   "version": "3.8.10"
  }
 },
 "nbformat": 4,
 "nbformat_minor": 1
}
